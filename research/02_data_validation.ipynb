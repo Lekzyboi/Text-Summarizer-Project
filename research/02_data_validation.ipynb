{
 "cells": [
  {
   "cell_type": "code",
   "execution_count": 65,
   "metadata": {},
   "outputs": [],
   "source": [
    "import os"
   ]
  },
  {
   "cell_type": "code",
   "execution_count": 66,
   "metadata": {},
   "outputs": [],
   "source": [
    "import sys\n",
    "sys.path.append('c:\\\\Users\\\\Sadeeq\\\\Desktop\\\\NLP Projects\\\\Text-Summarizer-Project\\\\src')"
   ]
  },
  {
   "cell_type": "code",
   "execution_count": 67,
   "metadata": {},
   "outputs": [],
   "source": [
    "import sys\n",
    "project_path = 'c:\\\\Users\\\\Sadeeq\\\\Desktop\\\\NLP Projects\\\\Text-Summarizer-Project'\n",
    "if project_path not in sys.path:\n",
    "    sys.path.append(project_path)"
   ]
  },
  {
   "cell_type": "code",
   "execution_count": 68,
   "metadata": {},
   "outputs": [],
   "source": [
    "from dataclasses import dataclass\n",
    "from pathlib import Path\n",
    "\n",
    "\n",
    "@dataclass(frozen=True)\n",
    "class DataValidationConfig:\n",
    "    root_dir: Path\n",
    "    STATUS_FILE: str\n",
    "    ALL_REQUIRED_FILES: list"
   ]
  },
  {
   "cell_type": "code",
   "execution_count": 69,
   "metadata": {},
   "outputs": [],
   "source": [
    "from src.textSummarizer.utils.common import read_yaml, create_directories\n",
    "from src.textSummarizer.constant import *"
   ]
  },
  {
   "cell_type": "code",
   "execution_count": 70,
   "metadata": {},
   "outputs": [],
   "source": [
    "from textSummarizer.constant import CONFIG_FILE_PATH, PARAMS_FILE_PATH\n",
    "new_config_path = Path('../') / CONFIG_FILE_PATH\n",
    "new_params_path = Path('../') / PARAMS_FILE_PATH"
   ]
  },
  {
   "cell_type": "code",
   "execution_count": 89,
   "metadata": {},
   "outputs": [],
   "source": [
    "class ConfigurationManager:\n",
    "    def __init__(\n",
    "        self,\n",
    "        config_filepath = new_config_path,\n",
    "        params_filepath = new_params_path):\n",
    "        \n",
    "        self.config = read_yaml(config_filepath)\n",
    "        self.params = read_yaml(params_filepath)\n",
    "        \n",
    "        create_directories([self.config.artifacts_root])\n",
    "        \n",
    "        \n",
    "        \n",
    "    def get_data_validation_config(self) -> DataValidationConfig:\n",
    "        config = self.config.data_validation\n",
    "        \n",
    "        create_directories([config.root_dir])\n",
    "        \n",
    "        data_validation_config = DataValidationConfig(\n",
    "            root_dir = config.root_dir,\n",
    "            STATUS_FILE = config.STATUS_FILE,\n",
    "            ALL_REQUIRED_FILES = config.ALL_REQUIRED_FILES,\n",
    "        )\n",
    "        return data_validation_config\n"
   ]
  },
  {
   "cell_type": "code",
   "execution_count": 90,
   "metadata": {},
   "outputs": [],
   "source": [
    "from textSummarizer.logging import logger"
   ]
  },
  {
   "cell_type": "code",
   "execution_count": 91,
   "metadata": {},
   "outputs": [],
   "source": [
    "import os\n",
    "\n",
    "class DataValidation:\n",
    "    def __init__(self, config: DataValidationConfig):\n",
    "        self.config = config\n",
    "        \n",
    "    def validate_all_files_exist(self) -> bool:\n",
    "        try:\n",
    "            validation_status = None\n",
    "            \n",
    "            # Path to the 'data_ingestion' directory inside the 'artifacts' directory\n",
    "            ingestion_path = os.path.join(\"..\", \"artifacts\", \"data_ingestion\", \"samsum_dataset\")\n",
    "            if not os.path.exists(ingestion_path):\n",
    "                raise FileNotFoundError(f\"The path {ingestion_path} does not exist.\")\n",
    "            \n",
    "            # Path to the 'data_validation' directory inside the 'artifacts' directory\n",
    "            validation_path = os.path.join(\"..\", \"artifacts\", \"data_validation\")\n",
    "            if not os.path.exists(validation_path):\n",
    "                os.makedirs(validation_path)  # This will create the 'data_validation' directory if it doesn't exist\n",
    "\n",
    "            all_files = os.listdir(ingestion_path)\n",
    "            \n",
    "            for file in all_files:\n",
    "                if file not in self.config.ALL_REQUIRED_FILES:\n",
    "                    validation_status = False\n",
    "                else:\n",
    "                    validation_status = True\n",
    "                \n",
    "                # Ensure STATUS_FILE is just a filename, like 'status.txt'\n",
    "                status_file_path = os.path.join(validation_path, os.path.basename(self.config.STATUS_FILE))\n",
    "                with open(status_file_path, 'w') as f:\n",
    "                    f.write(f\"validation status: {validation_status}\")\n",
    "            \n",
    "            return validation_status\n",
    "        \n",
    "        except Exception as e:\n",
    "            raise e\n"
   ]
  },
  {
   "cell_type": "code",
   "execution_count": 92,
   "metadata": {},
   "outputs": [
    {
     "name": "stdout",
     "output_type": "stream",
     "text": [
      "[2024-03-03 01:42:44,735: INFO: common: yaml file: ..\\config\\config.yaml loaded successfully]\n",
      "[2024-03-03 01:42:44,738: INFO: common: yaml file: ..\\params.yaml loaded successfully]\n",
      "[2024-03-03 01:42:44,738: INFO: common: Directory artifacts created successfully]\n",
      "[2024-03-03 01:42:44,739: INFO: common: Directory artifacts/data_validation created successfully]\n"
     ]
    }
   ],
   "source": [
    "try:\n",
    "    config = ConfigurationManager()\n",
    "    data_validation_config = config.get_data_validation_config()\n",
    "    data_validation = DataValidation(config=data_validation_config)\n",
    "    data_validation.validate_all_files_exist()  \n",
    "except Exception as e:\n",
    "    raise e"
   ]
  },
  {
   "cell_type": "code",
   "execution_count": null,
   "metadata": {},
   "outputs": [],
   "source": []
  },
  {
   "cell_type": "code",
   "execution_count": null,
   "metadata": {},
   "outputs": [],
   "source": []
  }
 ],
 "metadata": {
  "kernelspec": {
   "display_name": "text_sum",
   "language": "python",
   "name": "python3"
  },
  "language_info": {
   "codemirror_mode": {
    "name": "ipython",
    "version": 3
   },
   "file_extension": ".py",
   "mimetype": "text/x-python",
   "name": "python",
   "nbconvert_exporter": "python",
   "pygments_lexer": "ipython3",
   "version": "3.9.18"
  }
 },
 "nbformat": 4,
 "nbformat_minor": 2
}
